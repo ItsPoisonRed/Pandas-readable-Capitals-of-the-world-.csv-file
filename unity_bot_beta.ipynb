{
  "nbformat": 4,
  "nbformat_minor": 0,
  "metadata": {
    "colab": {
      "provenance": [],
      "include_colab_link": true
    },
    "kernelspec": {
      "name": "python3",
      "display_name": "Python 3"
    },
    "language_info": {
      "name": "python"
    }
  },
  "cells": [
    {
      "cell_type": "markdown",
      "metadata": {
        "id": "view-in-github",
        "colab_type": "text"
      },
      "source": [
        "<a href=\"https://colab.research.google.com/github/ItsPoisonRed/Pandas-readable-Capitals-of-the-world-.csv-file/blob/main/unity_bot_beta.ipynb\" target=\"_parent\"><img src=\"https://colab.research.google.com/assets/colab-badge.svg\" alt=\"Open In Colab\"/></a>"
      ]
    },
    {
      "cell_type": "code",
      "source": [
        "# @title Code 1\n",
        "import pandas as pd\n",
        "import sys\n",
        "import fontstyle as fs\n",
        "import warnings\n",
        "warnings.filterwarnings('ignore')\n",
        "\n",
        "url = 'https://raw.githubusercontent.com/ItsPoisonRed/Pandas-readable-Capitals-of-the-world-.csv-file/main/country-capitals.csv'\n",
        "df = pd.read_csv(url)\n",
        "\n",
        "countries_df=df[['CountryName','CapitalName']]\n",
        "while True:\n",
        "  country_input= input(\"What country would you like to know the capital of? \").title()\n",
        "  if country_input==\"United States\":\n",
        "    print(fs.apply(\"Washington D.C.\",'bold/blue/YELLOW_BG'))\n",
        "    sys.exit()\n",
        "  capital_df=str(countries_df.loc[countries_df['CountryName'] == country_input]).split()\n",
        "  print(fs.apply(capital_df[4],'bold/blue/YELLOW_BG'))"
      ],
      "metadata": {
        "colab": {
          "base_uri": "https://localhost:8080/",
          "height": 227
        },
        "id": "pPRiCzbtUbW0",
        "outputId": "7de74f39-8f18-45b1-9a59-d8ca46cdbc74",
        "cellView": "form"
      },
      "execution_count": null,
      "outputs": [
        {
          "output_type": "stream",
          "name": "stdout",
          "text": [
            "What country would you like to know the capital of? algeria\n",
            "\u001b[1m\u001b[94m\u001b[43mAlgiers\u001b[0m\n",
            "What country would you like to know the capital of? morocco\n",
            "\u001b[1m\u001b[94m\u001b[43mRabat\u001b[0m\n",
            "What country would you like to know the capital of? united states\n",
            "\u001b[1m\u001b[94m\u001b[43mWashington D.C.\u001b[0m\n"
          ]
        },
        {
          "output_type": "error",
          "ename": "SystemExit",
          "evalue": "ignored",
          "traceback": [
            "An exception has occurred, use %tb to see the full traceback.\n",
            "\u001b[0;31mSystemExit\u001b[0m\n"
          ]
        }
      ]
    }
  ]
}